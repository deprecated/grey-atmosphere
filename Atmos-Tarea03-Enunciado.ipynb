{
 "cells": [
  {
   "cell_type": "markdown",
   "metadata": {},
   "source": [
    "# Astrofísica Estelar – Tarea 03\n",
    "\n",
    "Usar la ecuación de Milne para calcular el espectro de flujo radiativo a diferentes profundidades en un modelo de una atmósfera ETL en equilibrio radiativo y con opacidad gris."
   ]
  },
  {
   "cell_type": "markdown",
   "metadata": {},
   "source": [
    "## Modelo de la atmósfera gris\n",
    "\n",
    "### Propósito\n",
    "\n",
    "* Encontrar el espectro de flujo $F_\\nu$ a diferentes profundidades en la atmósfera.\n",
    "* Esencialmente es reproducir la Figura 17.1 del libro de Hubeny & Mihalas (q.v.)\n",
    "\n",
    "### Suposiciones\n",
    "\n",
    "* El hipótesis fundamental \"gris\" es que la opacidad es independiente de la frecuencia\n",
    "    - Entonces, la misma escala de profundidad óptica, $\\tau$, aplica a todas frecuencias.\n",
    "* Suponemos equilibrio radiativo, de modo que la intensidad promedia integrada en frecuencia es igual a la función fuente: $ J = S $.\n",
    "    * Con un supuesto adicional de geometría plano-paralelo, esto significa que el flujo radiativo integrado en frecuencia, $ H $, es constante con la profundidad.\n",
    "* También asumimos *Equilibrio termodinámico local* y sin dispersión, de modo que la función fuente a cualquier frecuencia viene dada por la función de Planck a la temperatura local: $ S_\\nu(\\tau) = B_\\nu[T(\\tau)] $\n",
    "    - Donde $$B_\\nu = \\frac{2h \\nu^3}{c^2} \\frac{1}{e^{h\\nu/kT} - 1}$$\n",
    "    - Además, la función Planck integrada en frecuencia es $$B = (\\sigma/\\pi) T^4$$\n",
    "* Además, usamos la *aproximación de Eddington*, $ J = 3 K $, como una relación de cierre para los momentos de la ecuación de transferencia radiativa integrada en frecuencia."
   ]
  },
  {
   "cell_type": "markdown",
   "metadata": {},
   "source": [
    "### Resultados del modelo\n",
    "\n",
    "* Flujo bolométrico es constante con profundidad: $H = \\sigma T_\\mathrm{eff}^4 \\,/\\, 4 \\pi$\n",
    "    - La temperatura efectiva $T_\\mathrm{eff}$ es el parámetro global único que caracteriza la atmósfera\n",
    "* Función fuente, función de Planck, e intensidad media (todas integrada en frecuencia): $S = B = J = 3 H (\\tau + \\frac{2}{3})$\n",
    "    - $\\Rightarrow$ $B\\big[\\tau = \\frac23\\big] = B(T_\\mathrm{eff}) = 4 H$"
   ]
  },
  {
   "cell_type": "markdown",
   "metadata": {},
   "source": [
    "### Versión adimensional de las ecuaciones\n",
    "\n",
    "Para hacer los cálculos más limpios y generales, usamos la temperatura efectiva para normalizarlas:\n",
    "\n",
    "* Temperatura adimensional: $p(\\tau) \\equiv T(\\tau) / T_\\mathrm{eff}$\n",
    "* Frecuencia admensional: $\\alpha = h\\nu/k T_\\mathrm{eff}$"
   ]
  },
  {
   "cell_type": "markdown",
   "metadata": {},
   "source": [
    "### <font color=#c31> Ejercicio 1: Escribir una función para $p(\\tau)$</font>\n",
    "\n",
    "Escriba una función:\n",
    "```python\n",
    "def p(tau):\n",
    "    \"\"\"T / T_eff en función de la profundidad óptica `tau`\"\"\"\n",
    "    return ????????\n",
    "```\n",
    "y graficarla para el rango $\\tau = [0, 4]$.  Checar que $p(2/3) = 1.0$ y que $p(0) \\approx 0.841$."
   ]
  },
  {
   "cell_type": "markdown",
   "metadata": {},
   "source": [
    "### <font color=#c31> Ejercicio 2: Función Planck adimensional</font>\n",
    "\n",
    "La función Planck por unidad de frecuencia adimensional es $B_\\alpha = \n",
    "\\frac{d\\nu}{d\\alpha} B_\\nu$.  Muestre que se puede escribir:\n",
    "$$\n",
    "\\frac{B_\\alpha}{B(T_\\mathrm{eff})} = \\frac{C\\, \\alpha^3}{e^{\\alpha / p(\\tau)} - 1}\n",
    "$$\n",
    "donde el constante $C$ es un número puro (combinación de constantes físicos y matemáticos).  Encuentre el valor de $C$. \n",
    "\n",
    "Una manera de hacerlo usando la librería `astropy.constants` es así:\n",
    "\n",
    "```python\n",
    "import numpy as np\n",
    "from astropy.constants import c, k_B, h, sigma_sb\n",
    "\n",
    "bigC = ?????\n",
    "bigC_unit = bigC.unit.compose()\n",
    "bigC = bigC.value\n",
    "print('C =', bigC)\n",
    "print(\"Unidades de C:\", bigC_unit)\n",
    "```\n",
    "\n",
    "Note que los constantes de astropy son objetos especiales que tienen unidades físicas incorporados.  El renglón con `bigC.value` es para convertirla a un `float` normal.  Imprimimos también las unidades para checar que el resultado fue adimensional."
   ]
  },
  {
   "cell_type": "markdown",
   "metadata": {},
   "source": [
    "### <font color=#c31> Ejercicio 3: Graficar la función Planck para diferentes profundidades</font>\n",
    "\n",
    "Escriba una función para $B_\\alpha / B(T_\\mathrm{eff})$. Por ejemplo:\n",
    "\n",
    "```python\n",
    "def planck(alpha, tau):\n",
    "    \"\"\"Función de Planck normalizada (argumentos: frecuencia `alpha` y profundidad `tau`)\"\"\"\n",
    "    return bigC * ??????\n",
    "```\n",
    "\n",
    "Grafique la función en cuatro diferentes maneras:\n",
    "\n",
    "#### <font color=#c31>(i) Graficar $B_\\alpha / B(T_\\mathrm{eff})$ contra frecuencia $\\alpha$ para diferentes profundidades</font>\n",
    "Por ejemplo, $\\tau$ = 0, 1, 2, 4, y 8. Usar un rango de frecuencia de $\\alpha = [0, 12]$.\n",
    "\n",
    "* Checar que tanto el valor pico de $B_\\alpha$ aumenta con $\\tau$, así como el valor de la $\\alpha$ donde el pico ocurre. Las curvas no deben de cruzarse.\n",
    "    \n",
    "#### <font color=#c31>(ii) Igual a la (i), pero graficando $B_\\alpha / B(T(\\tau))$.</font> \n",
    "Es decir, normalizar por la función Planck integrada a la temperatura local de cada profundidad.\n",
    "\n",
    "- Ahora el area abajo de cada curva debe de ser igual. \n",
    "    \n",
    "#### <font color=#c31>(iii) Graficar $B_\\alpha / B(T_\\mathrm{eff})$ contra $\\tau$ para 3 frecencias particulares</font>\n",
    "Usar $\\alpha$ = 1, 3, y 9 y un rango de $\\tau = [0, 20]$.\n",
    "    \n",
    "- ¿por qué escoger estas 3 frecuencias?\n",
    "- Si $T_\\mathrm{eff} = 6000\\,\\mathrm{K}$, a cuáles longitudes de onda corresponden?\n",
    "    \n",
    "#### <font color=#c31>(iv) Igual a la (iii), pero normalizando cada curva por el valor a $\\tau = 2/3$.</font>\n",
    "Usar un rango más corto: $\\tau = [0, 2]$.\n",
    "\n",
    "- Esto facilita la comparación del gradiente de la función fuente entre las 3 frecuencias\n",
    "- Explique cualitativamente qué está pasando en esta gráfica\n",
    "    \n"
   ]
  },
  {
   "cell_type": "markdown",
   "metadata": {},
   "source": [
    "## La ecuación Milne para encontrar el flujo\n",
    "\n",
    "La ecuación general para el flujo es:\n",
    "$$\n",
    "H_\\nu(\\tau) = \\frac12 \\left[\n",
    "\\int_{\\tau}^{\\infty} \n",
    "S_\\nu(t)\\, E_2(t - \\tau) \\, dt\n",
    "\\; -\n",
    "\\int_0^{\\tau}\n",
    "S_\\nu(t)\\, E_2(\\tau - t) \\, dt\n",
    "\\right]\n",
    "$$\n",
    "\n",
    "La versión adimensional en ETL es\n",
    "$$\n",
    "H_{\\alpha}(\\tau) = \\frac12 \\left[\n",
    "\\int_{\\tau}^{\\infty} \n",
    "B_\\alpha(t)\\, E_2(t - \\tau) \\, dt\n",
    "\\; -\n",
    "\\int_0^{\\tau}\n",
    "B_\\alpha(t)\\, E_2(\\tau - t) \\, dt\n",
    "\\right]\n",
    "$$\n",
    "en donde $B_\\alpha = 4 H C \\alpha^3 / (e^{\\alpha / p(\\tau)} - 1)$ (ver arriba) y $E_2$ es la integral exponencial de orden dos. \n",
    "\n",
    "Por lo tanto:\n",
    "$$\n",
    "\\frac{H_{\\alpha}(\\tau)}{H} = 2 C \\alpha^3\n",
    "\\left[ \\int_{\\tau}^{\\infty} \n",
    "\\frac{E_2(t - \\tau) \\, dt }{e^{\\alpha / p(t)} - 1} \n",
    "\\; - \n",
    "\\int_0^{\\tau} \n",
    "\\frac{E_2(\\tau - t) \\, dt }{e^{\\alpha / p(t)} - 1}\n",
    "\\right]\n",
    "= \n",
    "\\int_{\\tau}^{\\infty}\n",
    "2 \\frac{B_\\alpha(t)}{B(T_\\mathrm{eff})}\\,\n",
    "E_2(t - \\tau) \\, dt\n",
    "\\; -\n",
    "\\int_0^{\\tau}\n",
    "2 \\frac{B_\\alpha(t)}{B(T_\\mathrm{eff})}\\,\n",
    "E_2(\\tau - t) \\, dt\n",
    "$$\n",
    "\n",
    "\n"
   ]
  },
  {
   "cell_type": "markdown",
   "metadata": {},
   "source": [
    "### <font color=#c31> Ejercicio 4: Escribir una función para el integrando de la ecuación Milne</font>\n",
    "\n",
    "Se puede usar la función `scipy.special.expn` para la integral exponencial.  Además, el argumento de $E_2$ es siempre positivo en ambas integrales, entonces se puede usar el valor absoluto $|t - \\tau|$, calculada con la función `abs`.\n",
    "\n",
    "```python\n",
    "from scipy.special import expn\n",
    "\n",
    "def milne_integrand(t, alpha, tau):\n",
    "    \"\"\"Dos veces B(t) por E_2(|t - tau|)\"\"\"\n",
    "    return ?????? \n",
    "```\n",
    "\n",
    "Note que el variable de integración va primero en esta función. Esto es necesario para que podemos usarlo con rutinas de integración numérica."
   ]
  },
  {
   "cell_type": "markdown",
   "metadata": {},
   "source": [
    "### Realizar las integrales\n",
    "\n",
    "* Escribimos dos funciones: una para la radiación en dirección descendente, otra para la radiación en dirección ascendente.  \n",
    "* Usamos la rutina `scipy.integrate.quad` que require al menos tres argumentos: la función para integrar, luego el límite inferior, luego el límite superior.  \n",
    "    - Se permite usar límites de integración finitas o infinitas. \n",
    "    - Los argumentos auxiliares para el integrando están comunicados usando el argumento opcional `args`. "
   ]
  },
  {
   "cell_type": "code",
   "execution_count": null,
   "metadata": {},
   "outputs": [],
   "source": [
    "from scipy.integrate import quad\n",
    "\n",
    "def downward(alpha, tau, integrand=milne_integrand):\n",
    "    \"\"\"Integrate the `integrand` between 0 and `tau` using quadpack\"\"\"\n",
    "    result, error = quad(integrand, 0.0, tau, args=(alpha, tau))\n",
    "    return result\n",
    "\n",
    "def upward(alpha, tau, integrand=milne_integrand):\n",
    "    \"\"\"Integrate the `integrand` between `tau` and infinity using quadpack\"\"\"\n",
    "    result, error = quad(integrand, tau, np.infty, args=(alpha, tau))\n",
    "    return result"
   ]
  },
  {
   "cell_type": "markdown",
   "metadata": {},
   "source": [
    "Ahora definimos una función `flux` que calcula el flujo neto como la diferencia entre el corriente ascendente y el descendente.\n",
    "\n",
    "Note que `quad` requiere que `alpha` y `tau` sean escalares.  Entonces, usamos la función `np.vectorize` como *decorador* de `flux` para que se pueda llamar con vectores (arreglos) para `alpha` y `tau`.  "
   ]
  },
  {
   "cell_type": "code",
   "execution_count": null,
   "metadata": {},
   "outputs": [],
   "source": [
    "@np.vectorize\n",
    "def flux(alpha, tau):\n",
    "    \"\"\"Find net radiative flux as difference between \n",
    "    upward and downward streams\"\"\"\n",
    "    return upward(alpha, tau) - downward(alpha, tau)"
   ]
  },
  {
   "cell_type": "markdown",
   "metadata": {},
   "source": [
    "### <font color=#c31> Ejercicio 5: Graficar el espectro del flujo</font>\n",
    "\n",
    "* Utilice los mismos valores de $\\tau$ y rango de $\\alpha$ que usó en el 3(i) y 3(ii).  \n",
    "* Compare con la $B_\\alpha / B(T(\\tau))$ del 3(ii). \n",
    "    - ¿Cómo es diferente el espectro del flujo a la función Planck a la misma profundidad?  ¿Por qué?\n"
   ]
  },
  {
   "cell_type": "markdown",
   "metadata": {},
   "source": [
    "### <font color=#c31> [OPCIONAL] Ejercicio 6: Repitir para la intensidad promedia</font>\n",
    "\n",
    "* Escriba una función `schwarz_integrand` para el integrando en la ecuación de Schwarzschild para calcular $J_\\alpha(\\tau)$.\n",
    "    - Esta se utiliza en la función `meanJ` (proporcionado abajo) que evalua $J_\\alpha(\\tau)/H$\n",
    "* Grafique $J_\\alpha(\\tau)/H$ igual que en el ejercicio 5\n",
    "* Compare con la $B_\\alpha / B(T_\\mathrm{eff})$ del 3(i).  **OJO**: No es la misma comparación que en el ejercicio 5.\n",
    "    - ¿Qué pasa para $\\tau > 2$?  ¿Por qué?\n"
   ]
  },
  {
   "cell_type": "code",
   "execution_count": null,
   "metadata": {},
   "outputs": [],
   "source": [
    "@np.vectorize\n",
    "def meanJ(alpha, tau):\n",
    "    \"\"\"Mean intensity as sum of upward and downward streams\"\"\"\n",
    "    return (upward(alpha, tau, integrand=schwarz_integrand) \n",
    "            + downward(alpha, tau, integrand=schwarz_integrand))"
   ]
  },
  {
   "cell_type": "code",
   "execution_count": null,
   "metadata": {},
   "outputs": [],
   "source": []
  }
 ],
 "metadata": {
  "jupytext": {
   "formats": "ipynb,py:light"
  },
  "kernelspec": {
   "display_name": "Python 3",
   "language": "python",
   "name": "python3"
  },
  "language_info": {
   "codemirror_mode": {
    "name": "ipython",
    "version": 3
   },
   "file_extension": ".py",
   "mimetype": "text/x-python",
   "name": "python",
   "nbconvert_exporter": "python",
   "pygments_lexer": "ipython3",
   "version": "3.8.1"
  }
 },
 "nbformat": 4,
 "nbformat_minor": 4
}
