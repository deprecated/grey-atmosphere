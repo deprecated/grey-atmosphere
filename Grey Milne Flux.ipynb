{
 "cells": [
  {
   "cell_type": "markdown",
   "metadata": {},
   "source": [
    "# Tarea 3\n",
    "\n",
    "Milne equation for flux in a gray atmosphere."
   ]
  },
  {
   "cell_type": "markdown",
   "metadata": {},
   "source": [
    "## Some definitions:\n",
    "\n",
    "* Dimensionless frequency: $\\alpha = h\\nu\\, /\\, kT_\\mathrm{eff}$\n",
    "* Eddington flux: $H_{\\alpha} = H_{\\nu}\\, d\\nu/d\\alpha$\n",
    "* Reciprocal dimensionless temperature: $p(\\tau) = T_\\mathrm{eff} \\,/\\, T(\\tau)$\n",
    "* Planck function: $B(\\tau) = (\\sigma/\\pi) T^4$"
   ]
  },
  {
   "cell_type": "markdown",
   "metadata": {},
   "source": [
    "## Results from LTE grey atmosphere in Edd approx\n",
    "\n",
    "* Bolometric flux (constant with depth): $H = \\sigma T_\\mathrm{eff}^4 \\,/\\, 4 \\pi$\n",
    "* Frequency-integrated Source function, Planck function, and mean intensity: $S = B = J = 3 H (\\tau + \\frac{2}{3})$"
   ]
  },
  {
   "cell_type": "markdown",
   "metadata": {},
   "source": [
    "Therefore $ (\\sigma/\\pi) T^4 = 3 (\\sigma/4\\pi) T_\\mathrm{eff}^4 (\\tau + \\frac{2}{3})$, which implies that\n",
    "$$\n",
    "p(\\tau)^4 = \\frac{4}{3\\tau + 2}\n",
    "$$\n",
    "  "
   ]
  },
  {
   "cell_type": "markdown",
   "metadata": {},
   "source": []
  },
  {
   "cell_type": "markdown",
   "metadata": {},
   "source": [
    "## Flux integral from Milne equation"
   ]
  },
  {
   "cell_type": "markdown",
   "metadata": {},
   "source": [
    "$$\n",
    "\\frac{H_{\\alpha}(\\tau)}{H} = c^\\prime\\, \\alpha^3\n",
    "\\left[ \\int_{\\tau}^{\\infty} \n",
    "\\frac{E_2(t - \\tau) \\, dt }{e^{\\alpha p(\\tau)} - 1}\n",
    "- \\int_0^{\\tau} \n",
    "\\frac{E_2(\\tau - t) \\, dt }{e^{\\alpha p(\\tau)} - 1}\n",
    "\\right]\n",
    "$$"
   ]
  },
  {
   "cell_type": "markdown",
   "metadata": {},
   "source": [
    "With the constant\n",
    "$$\n",
    "c^\\prime = \\frac{4\\pi k^{4}}{h^{3} c^{2} \\sigma}\n",
    "$$"
   ]
  },
  {
   "cell_type": "markdown",
   "metadata": {},
   "source": [
    "Calculate the numerical value of the constant:"
   ]
  },
  {
   "cell_type": "code",
   "execution_count": 4,
   "metadata": {
    "collapsed": false
   },
   "outputs": [],
   "source": [
    "import numpy as np\n",
    "import astropy.units as u\n",
    "from astropy.constants import c, k_B, h, sigma_sb"
   ]
  },
  {
   "cell_type": "code",
   "execution_count": 11,
   "metadata": {
    "collapsed": false
   },
   "outputs": [
    {
     "data": {
      "text/latex": [
       "$0.30797945 \\; \\mathrm{}$"
      ],
      "text/plain": [
       "<Quantity 0.30797944714203374>"
      ]
     },
     "execution_count": 11,
     "metadata": {},
     "output_type": "execute_result"
    }
   ],
   "source": [
    "cdash = 4*np.pi*k_B**4 / (h**3 * c**2 * sigma_sb)\n",
    "cdash.decompose()"
   ]
  },
  {
   "cell_type": "markdown",
   "metadata": {},
   "source": [
    "## Planck function\n",
    "\n",
    "Frequency-resolved version: \n",
    "$$\n",
    "B_\\alpha = \n",
    "\\frac{d\\nu}{d\\alpha} B_\\nu =\n",
    "\\frac{k T_\\mathrm{eff}}{h}\n",
    "\\frac{2 h }{c^2} \n",
    "\\left(\\frac{k T_\\mathrm{eff}}{h}\\right)^3\n",
    "\\frac{\\alpha^3}{e^{\\alpha p(\\tau)} - 1}\n",
    "= \n",
    "\\frac{2 k^4 T_\\mathrm{eff}^4}{h^3 c^2}\n",
    "\\frac{\\alpha^3}{e^{\\alpha p(\\tau)} - 1}\n",
    "$$"
   ]
  },
  {
   "cell_type": "code",
   "execution_count": null,
   "metadata": {
    "collapsed": true
   },
   "outputs": [],
   "source": []
  },
  {
   "cell_type": "code",
   "execution_count": null,
   "metadata": {
    "collapsed": true
   },
   "outputs": [],
   "source": []
  }
 ],
 "metadata": {
  "kernelspec": {
   "display_name": "Python 3",
   "language": "python",
   "name": "python3"
  },
  "language_info": {
   "codemirror_mode": {
    "name": "ipython",
    "version": 3
   },
   "file_extension": ".py",
   "mimetype": "text/x-python",
   "name": "python",
   "nbconvert_exporter": "python",
   "pygments_lexer": "ipython3",
   "version": "3.4.5"
  }
 },
 "nbformat": 4,
 "nbformat_minor": 0
}
